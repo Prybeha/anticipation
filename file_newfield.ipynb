{
 "cells": [
  {
   "cell_type": "code",
   "execution_count": 1,
   "metadata": {},
   "outputs": [],
   "source": [
    "import numpy as np\n",
    "import pandas\n",
    "import matplotlib.pyplot as plt\n",
    "import math"
   ]
  },
  {
   "cell_type": "code",
   "execution_count": 2,
   "metadata": {},
   "outputs": [],
   "source": [
    "n = 13\n",
    "m = 13\n",
    "alpha = 0.5\n",
    "\n",
    "border_width = 1\n",
    "tonels_quantity = 2\n",
    "all_possible_situation = []"
   ]
  },
  {
   "cell_type": "code",
   "execution_count": 3,
   "metadata": {},
   "outputs": [],
   "source": [
    "def showField(field):\n",
    "    plt.imshow(field[:,:], cmap='Greys', interpolation='nearest')\n",
    "    plt.title(\"Cellular automata\")\n",
    "    plt.show()"
   ]
  },
  {
   "cell_type": "code",
   "execution_count": 4,
   "metadata": {},
   "outputs": [],
   "source": [
    "def showFieldFromNumbers(alive):\n",
    "    coordinates = numberToCoordinates(alive)\n",
    "    \n",
    "    field_with_values = np.zeros([n,m])\n",
    "    for i in range(0,n):\n",
    "        for j in range(0,m):\n",
    "            field_with_values[i][j] = field_basic[i][j]\n",
    "    for a in range(0,len(alive)):\n",
    "        for i in range(0,n):\n",
    "            for j in range(0,m):\n",
    "                if i == int(coordinates[a][0]) and j == int(coordinates[a][1]):\n",
    "                    field_with_values[i][j] = 1\n",
    "    \n",
    "    showField(field_with_values)"
   ]
  },
  {
   "cell_type": "code",
   "execution_count": 5,
   "metadata": {},
   "outputs": [],
   "source": [
    "# creating field\n",
    "field_basic = np.zeros([n,m])\n",
    "\n",
    "# initialize borders\n",
    "for i in range(0,n):\n",
    "    for j in range(0,m):\n",
    "        if i == 0 or j == 0 or i == n - 1 or j == m - 1:\n",
    "            field_basic[i][j] = 2"
   ]
  },
  {
   "cell_type": "code",
   "execution_count": 6,
   "metadata": {},
   "outputs": [
    {
     "name": "stdout",
     "output_type": "stream",
     "text": [
      "Border line: 6-6\n"
     ]
    }
   ],
   "source": [
    "# adding border line \n",
    "border_start = math.ceil((n - 2) / 2) - int(border_width / 2)\n",
    "border_finish = math.ceil((n - 2) / 2) + int(border_width / 2)\n",
    "if not(border_width %2 == 1):\n",
    "    border_start = border_start + 1\n",
    "    \n",
    "print(\"Border line: \" + str(border_start) + \"-\" + str(border_finish)) \n",
    "    \n",
    "for i in range(0,n):\n",
    "    for j in range(0,m):\n",
    "        if i >= border_start and i <= border_finish:\n",
    "            field_basic[i][j] = 2"
   ]
  },
  {
   "cell_type": "code",
   "execution_count": 7,
   "metadata": {},
   "outputs": [
    {
     "name": "stdout",
     "output_type": "stream",
     "text": [
      "tonel1(3-3)\n",
      "tonel2(9-9)\n"
     ]
    }
   ],
   "source": [
    "# calc tonels location\n",
    "# each tonel have start position and finish possition\n",
    "\n",
    "tonels = np.zeros([tonels_quantity,2])\n",
    "tonels_width = np.ones([tonels_quantity])\n",
    "# tonels_width set to 1 by default, if want to change tonels_width[tonel_number] = width\n",
    "\n",
    "len_part = int((m-2) / tonels_quantity)\n",
    "for i in range(0,tonels_quantity):\n",
    "#     devide line to equal parts and take its center\n",
    "    if i == 0:\n",
    "        tonels[i][0] = int((1 + len_part) / 2)\n",
    "        tonels[i][1] = int(tonels[i][0] + tonels_width[i] - 1)\n",
    "    else:\n",
    "        tonels[i][0] = int(tonels[i-1][0] + len_part) + 1\n",
    "        tonels[i][1] = int(tonels[i][0] + tonels_width[i] - 1)\n",
    "    print(\"tonel\" + str(i + 1) + \"(\" + str(int(tonels[i][0])) + \"-\" + str(int(tonels[i][1])) + \")\")"
   ]
  },
  {
   "cell_type": "code",
   "execution_count": 8,
   "metadata": {},
   "outputs": [
    {
     "data": {
      "image/png": "[encoded data removed]",
      "text/plain": [
       "<Figure size 432x288 with 1 Axes>"
      ]
     },
     "metadata": {
      "needs_background": "light"
     },
     "output_type": "display_data"
    }
   ],
   "source": [
    "# adding tonels\n",
    "for t in range(0,len(tonels)):\n",
    "    for i in range(1,n-1):\n",
    "        for j in range(1,m-1):\n",
    "            if i >= border_start and i <= border_finish:\n",
    "                if j >= tonels[t][0] and j <= tonels[t][1]:\n",
    "                    field_basic[i][j] = 0\n",
    "                \n",
    "showField(field_basic)"
   ]
  },
  {
   "cell_type": "code",
   "execution_count": 9,
   "metadata": {},
   "outputs": [],
   "source": [
    "frequency = np.zeros([n,m])"
   ]
  },
  {
   "cell_type": "code",
   "execution_count": 10,
   "metadata": {},
   "outputs": [],
   "source": [
    "def numberToCoordinates(alive):\n",
    "    no_zero_quantity = 0\n",
    "    for i in range(0,len(alive)):\n",
    "        if alive[i] == 0:\n",
    "            break\n",
    "        else: no_zero_quantity = no_zero_quantity + 1\n",
    "            \n",
    "    res = np.zeros([no_zero_quantity,2])\n",
    "    for i in range(0,no_zero_quantity):\n",
    "    #     calc i \n",
    "        res[i][0] = int(alive[i] / m)\n",
    "    #     calc j\n",
    "        res[i][1] = alive[i] % m\n",
    "    \n",
    "    return res"
   ]
  },
  {
   "cell_type": "code",
   "execution_count": 11,
   "metadata": {},
   "outputs": [],
   "source": [
    "def fieldToNumber(field_with_values):\n",
    "    alive_numbers = []\n",
    "    one_situation = []\n",
    "    for k in range(0,len(field_with_values)):\n",
    "        for i in range(1,n-1):\n",
    "            for j in range(1,m-1):\n",
    "                if field_with_values[k][i][j] == 1:\n",
    "                    number = (i * m) + j\n",
    "                    one_situation.append(number)\n",
    "        alive_numbers.append(np.asarray(one_situation).astype(int))\n",
    "        one_situation = []\n",
    "    return alive_numbers"
   ]
  },
  {
   "cell_type": "code",
   "execution_count": 12,
   "metadata": {},
   "outputs": [],
   "source": [
    "def frequencyToField(frequency_local):\n",
    "    alive_numbers = []\n",
    "    for i in range(1,n-1):\n",
    "        for j in range(1,m-1):\n",
    "            if frequency_local[i][j] != 0:\n",
    "                number = (i * m) + j\n",
    "                alive_numbers.append(number)\n",
    "    return np.array(alive_numbers)"
   ]
  },
  {
   "cell_type": "code",
   "execution_count": 13,
   "metadata": {},
   "outputs": [],
   "source": [
    "def fillInField(field, alive):\n",
    "    field_with_values = np.zeros([n,m])\n",
    "    for i in range(0,n):\n",
    "        for j in range(0,m):\n",
    "            field_with_values[i][j] = field[i][j]\n",
    "    for a in range(0,len(alive)):\n",
    "        for i in range(0,n):\n",
    "            for j in range(0,m):\n",
    "                if i == int(alive[a][0]) and j == int(alive[a][1]):\n",
    "                    field_with_values[i][j] = 1\n",
    "               \n",
    "    return field_with_values"
   ]
  },
  {
   "cell_type": "code",
   "execution_count": 14,
   "metadata": {},
   "outputs": [],
   "source": [
    "def validation(field_with_values, i, j):\n",
    "    if field_with_values[i][j] == 2:\n",
    "        return False\n",
    "    elif field_with_values[i][j] == 0 and (field_with_values[i-1][j] == 0 or field_with_values[i-1][j] == 2) and (field_with_values[i+1][j] == 0 or field_with_values[i+1][j] == 2) and (field_with_values[i][j-1] == 0 or field_with_values[i][j-1] == 2) and (field_with_values[i][j+1] == 0 or field_with_values[i][j+1] == 2): \n",
    "        return False\n",
    "    else: return True"
   ]
  },
  {
   "cell_type": "code",
   "execution_count": 15,
   "metadata": {},
   "outputs": [],
   "source": [
    "def calcFrequency(field_with_values):\n",
    "    for i in range(1,n-1):\n",
    "        for j in range(1,m-1):\n",
    "            if field_with_values[i][j] == 1:\n",
    "                frequency[i][j] = frequency[i][j] + 1"
   ]
  },
  {
   "cell_type": "code",
   "execution_count": 16,
   "metadata": {},
   "outputs": [],
   "source": [
    "def addingInFile(forAdd, parent):\n",
    "    if (len(forAdd[0]) != 0):\n",
    "        if not (np.array_equal(forAdd[0],parent)):\n",
    "            for j in range(0,len(forAdd)):\n",
    "                data_filtered = str(forAdd[j][0]) + \" \"\n",
    "                for i in range(1,len(forAdd[j])):\n",
    "                    data_filtered = str(data_filtered) + str(forAdd[j][i]) + \" \"\n",
    "                if (len(forAdd[j]) != step+2):\n",
    "    #                 numbers quantity should be step+2\n",
    "                    for k in range(0,step+2-len(forAdd[j])):\n",
    "                        data_filtered = str(data_filtered) + \"0 \"\n",
    "                \n",
    "                file_next_step.write(str(data_filtered) + \"\\r\\n\")\n",
    "    else:\n",
    "        file_next_step.write(\" \" + \"\\r\\n\")"
   ]
  },
  {
   "cell_type": "code",
   "execution_count": 17,
   "metadata": {},
   "outputs": [],
   "source": [
    "# rules \n",
    "def calcForCurrentStep(field_with_values, i, j):\n",
    "    alive_neighbors = 0\n",
    "    if field_with_values[i-1][j] == 1:\n",
    "        alive_neighbors = alive_neighbors + 1\n",
    "    if field_with_values[i+1][j] == 1:\n",
    "        alive_neighbors = alive_neighbors + 1\n",
    "    if field_with_values[i][j-1] == 1:\n",
    "        alive_neighbors = alive_neighbors + 1\n",
    "    if field_with_values[i][j+1] == 1:\n",
    "        alive_neighbors = alive_neighbors + 1\n",
    "\n",
    "    if alive_neighbors == 1:\n",
    "        return 1\n",
    "    else: \n",
    "        return 0"
   ]
  },
  {
   "cell_type": "code",
   "execution_count": 18,
   "metadata": {},
   "outputs": [],
   "source": [
    "# anticipation\n",
    "def anticipation(field_with_values, i, j, guess):\n",
    "#     bottom ->\n",
    "    res = 0 \n",
    "    if(field_with_values[i+1][j] == 2): possible_neighbors = [[res,2]]\n",
    "    else: possible_neighbors = [[res,0],[res,1]]\n",
    "\n",
    "    solution = []\n",
    "#     rules for anticipation\n",
    "    field_for_check = np.zeros([n,m])\n",
    "    for q in range(0,n):\n",
    "        for w in range(0,m):\n",
    "            field_for_check[q][w] = field_with_values[q][w]\n",
    "    \n",
    "    for k in range(0,len(possible_neighbors)):\n",
    "        alive_neighbors = 0\n",
    "        \n",
    "        if(field_with_values[i+1][j] != 2): field_for_check[i+1][j] = possible_neighbors[k][1]\n",
    "        \n",
    "        if(field_for_check[i+1][j] == 1): alive_neighbors = alive_neighbors + field_for_check[i+1][j]\n",
    "        if(field_for_check[i-1][j] == 1): alive_neighbors = alive_neighbors + field_for_check[i-1][j]\n",
    "        if(field_for_check[i][j+1] == 1): alive_neighbors = alive_neighbors + field_for_check[i][j+1]\n",
    "        if(field_for_check[i][j-1] == 1): alive_neighbors = alive_neighbors + field_for_check[i][j-1]\n",
    "            \n",
    "        field_for_check[i+1][j] = field_with_values[i+1][j]\n",
    "        \n",
    "        if(alive_neighbors == 1):\n",
    "            possible_neighbors[k][0] = 1\n",
    "            \n",
    "#         print(\"i = \" + str(i) + \";j = \" + str(j) + \";alive = \" + str(alive_neighbors) + \";res = \" + str(possible_neighbors[k][0]))\n",
    "        if(possible_neighbors[k][0] == guess):\n",
    "            solution.append(np.asarray(possible_neighbors[k]).astype(int))\n",
    "    \n",
    "    return solution"
   ]
  },
  {
   "cell_type": "code",
   "execution_count": 19,
   "metadata": {},
   "outputs": [],
   "source": [
    "def calc(field_with_values, i, j):\n",
    "    if validation(field_with_values, i, j) == True:\n",
    "        \n",
    "        s_current = calcForCurrentStep(field_with_values, i, j)\n",
    "        s_next = anticipation(field_with_values, i, j, 0)\n",
    "        \n",
    "        solution = []\n",
    "        for k in range(0,len(s_next)):\n",
    "            output = alpha*s_current + (1-alpha)*s_next[k][0]\n",
    "            if(output == 0):\n",
    "                solution.append(np.asarray(s_next[k]).astype(int))\n",
    "        \n",
    "        s_next = anticipation(field_with_values, i, j, 1)\n",
    "        for k in range(0,len(s_next)):\n",
    "            output = alpha*s_current + (1-alpha)*s_next[k][0]\n",
    "            if(output == 1):\n",
    "                solution.append(np.asarray(s_next[k]).astype(int))\n",
    "               \n",
    "        solution_field = np.zeros([len(solution),n,m])\n",
    "        for k in range(0,len(solution)):\n",
    "            for q in range(1,n-1):\n",
    "                for w in range(1,m-1):\n",
    "                    if q == i+1 and w == j: solution_field[k][i+1][j] = solution[k][1]\n",
    "                    else: solution_field[k][q][w] = field_with_values[q][w]\n",
    "            solution_field[k][i][j] = solution[k][0]\n",
    "            calcFrequency(solution_field[k])\n",
    "            \n",
    "        if len(solution_field) != 0:\n",
    "            return fieldToNumber(solution_field)"
   ]
  },
  {
   "cell_type": "code",
   "execution_count": null,
   "metadata": {
    "scrolled": true
   },
   "outputs": [
    {
     "name": "stdout",
     "output_type": "stream",
     "text": [
      "Start step 1\n"
     ]
    },
    {
     "data": {
      "image/png": "[encoded data removed]",
      "text/plain": [
       "<Figure size 432x288 with 1 Axes>"
      ]
     },
     "metadata": {
      "needs_background": "light"
     },
     "output_type": "display_data"
    },
    {
     "name": "stdout",
     "output_type": "stream",
     "text": [
      "Finish step 1\n",
      "Start step 2\n",
      "loading starts\n",
      "loading finish. Possible situations: 4\n"
     ]
    },
    {
     "data": {
      "image/png": "[encoded data removed]",
      "text/plain": [
       "<Figure size 432x288 with 1 Axes>"
      ]
     },
     "metadata": {
      "needs_background": "light"
     },
     "output_type": "display_data"
    },
    {
     "name": "stdout",
     "output_type": "stream",
     "text": [
      "Finish step 2\n",
      "Start step 3\n",
      "loading starts\n",
      "loading finish. Possible situations: 24\n"
     ]
    },
    {
     "data": {
      "image/png": "[encoded data removed]",
      "text/plain": [
       "<Figure size 432x288 with 1 Axes>"
      ]
     },
     "metadata": {
      "needs_background": "light"
     },
     "output_type": "display_data"
    },
    {
     "name": "stdout",
     "output_type": "stream",
     "text": [
      "Finish step 3\n",
      "Start step 4\n",
      "loading starts\n",
      "loading finish. Possible situations: 194\n"
     ]
    },
    {
     "data": {
      "image/png": "[encoded data removed]",
      "text/plain": [
       "<Figure size 432x288 with 1 Axes>"
      ]
     },
     "metadata": {
      "needs_background": "light"
     },
     "output_type": "display_data"
    },
    {
     "name": "stdout",
     "output_type": "stream",
     "text": [
      "Finish step 4\n",
      "Start step 5\n",
      "loading starts\n",
      "loading finish. Possible situations: 1890\n"
     ]
    },
    {
     "data": {
      "image/png": "[encoded data removed]",
      "text/plain": [
       "<Figure size 432x288 with 1 Axes>"
      ]
     },
     "metadata": {
      "needs_background": "light"
     },
     "output_type": "display_data"
    },
    {
     "name": "stdout",
     "output_type": "stream",
     "text": [
      "Finish step 5\n",
      "Start step 6\n",
      "loading starts\n",
      "loading finish. Possible situations: 21868\n"
     ]
    }
   ],
   "source": [
    "# main part\n",
    "\n",
    "solution_prev = []\n",
    "solution_next = []\n",
    "\n",
    "start_step = 0\n",
    "steps = 13\n",
    "\n",
    "for step in range(start_step,steps):\n",
    "    print(\"Start step \" + str(step + 1))\n",
    "    \n",
    "    if step == 0:\n",
    "        start_position = np.array([45])\n",
    "        solution_prev.append(start_position)\n",
    "        alive = numberToCoordinates(solution_prev[0])\n",
    "        field_with_values = fillInField(field_basic, alive)\n",
    "        \n",
    "#         open file\n",
    "        file_next_step = open(\"step\"+ str(step+1) +\".txt\",\"w+\")\n",
    "    \n",
    "        for i in range(1,border_start):\n",
    "            for j in range(1,m-1):\n",
    "                res = calc(field_with_values, i, j)\n",
    "                if not(res is None):\n",
    "                    addingInFile(res,start_position) \n",
    "#       close file \n",
    "        file_next_step.close()\n",
    "    else:\n",
    "        print(\"loading starts\")\n",
    "        \n",
    "        frequency = np.loadtxt(fname=\"frequency\"+ str(step) +\".txt\",dtype=np.uint32)\n",
    "        solution_prev = np.loadtxt(fname=\"step\"+ str(step) +\".txt\",dtype=np.uint32)\n",
    "        \n",
    "        print(\"loading finish. Possible situations: \" + str(len(solution_prev)))\n",
    "        \n",
    "#         open file\n",
    "        file_next_step = open(\"step\"+ str(step+1) +\".txt\",\"w+\")\n",
    "        \n",
    "        for sol1 in range(0,len(solution_prev)):\n",
    "            alive = numberToCoordinates(solution_prev[sol1])\n",
    "            field_with_values = fillInField(field_basic, alive)\n",
    "\n",
    "            for i in range(1,n-1):\n",
    "                for j in range(1,m-1):\n",
    "                    res = calc(field_with_values, i, j)\n",
    "                    if not(res is None):\n",
    "                        addingInFile(res,solution_prev[sol1])\n",
    "            if((sol1+1) % 1000 == 0):\n",
    "                print(\"Done: \" + str(sol1+1) + \"/\" + str(len(solution_prev)))\n",
    "#       close file \n",
    "        file_next_step.close()\n",
    "    \n",
    "    showField(frequency)\n",
    "    \n",
    "    file_frequency = open(\"frequency\"+ str(step + 1) +\".txt\",\"w+\")\n",
    "    for j in range(0,len(frequency)):\n",
    "        frequency_filtered = str(frequency[j][0]) + \" \"\n",
    "        for i in range(1,len(frequency[j])):\n",
    "            frequency_filtered = str(frequency_filtered) + str(frequency[j][i]) + \" \"\n",
    "        file_frequency.write(str(frequency_filtered) + \"\\r\\n\")\n",
    "    file_frequency.close()\n",
    "    \n",
    "    print(\"Finish step \" + str(step + 1))\n",
    "#     write solution_next to file here \n",
    "#     on the top read solution_prev from file\n",
    "\n",
    "    solution_prev = []"
   ]
  },
  {
   "cell_type": "code",
   "execution_count": null,
   "metadata": {},
   "outputs": [],
   "source": [
    "# test operations with write/read data from file\n",
    "# file = open(\"test\"+ str(1) +\".txt\",\"w+\")\n",
    "\n",
    "# test = np.array([[41,42,42],[11,12]])\n",
    "\n",
    "# for j in range(0,len(test)):\n",
    "#     test_filtered = str(test[j][0]) + \" \"\n",
    "#     for i in range(1,len(test[j])):\n",
    "#         test_filtered = str(test_filtered) + str(test[j][i]) + \" \"\n",
    "#     file.write(str(test_filtered) + \"\\r\\n\")\n",
    "# file.close()\n",
    "\n",
    "# # file_read = open(\"step\"+ str(1) +\".txt\",\"r\")\n",
    "# # text = file_read.read()\n",
    "# # print(text)\n",
    "\n",
    "# array = np.loadtxt(fname=\"test\"+ str(1) +\".txt\",dtype=np.int16)\n",
    "# print(type(array))\n",
    "# print(array)"
   ]
  },
  {
   "cell_type": "code",
   "execution_count": null,
   "metadata": {
    "scrolled": true
   },
   "outputs": [],
   "source": [
    "# show frequency on step\n",
    "# frequency_show = np.loadtxt(fname=\"frequency\"+ str(11) +\"F.txt\",dtype=np.longdouble)\n",
    "# for i in range(0,len(frequency_show)):\n",
    "#     for j in range(0,len(frequency_show[j])):\n",
    "#         frequency_show[i][j] = (frequency_show[i][j] * 100) / 102857128\n",
    "# showField(frequency_show)\n",
    "# print(frequency_show)"
   ]
  },
  {
   "cell_type": "code",
   "execution_count": null,
   "metadata": {},
   "outputs": [],
   "source": [
    "# print(\"loading starts\")\n",
    "# solution_prev_1 = np.loadtxt(fname=\"step\"+ str(8) +\"_1.txt\",dtype=np.int32)\n",
    "# print(len(solution_prev_1))\n",
    "# print(\"loading finish\")\n",
    "# print(\"loading starts\")\n",
    "# solution_prev_2 = np.loadtxt(fname=\"step\"+ str(8) +\"_2.txt\",dtype=np.int32)\n",
    "# print(len(solution_prev_2))\n",
    "# print(\"loading finish\")"
   ]
  },
  {
   "cell_type": "code",
   "execution_count": null,
   "metadata": {},
   "outputs": [],
   "source": [
    "# print(\"loading starts\")\n",
    "# solution_prev_3 = np.loadtxt(fname=\"step\"+ str(8) +\"_3.txt\",dtype=np.int32)\n",
    "# print(len(solution_prev_3))\n",
    "# print(\"loading finish\")"
   ]
  },
  {
   "cell_type": "code",
   "execution_count": null,
   "metadata": {},
   "outputs": [],
   "source": [
    "# filtering on 8 step, remain only with hole alive situations.\n",
    "# file_next_step = open(\"step\"+ str(8) +\"_filtered.txt\",\"w+\")\n",
    "# for j in range(0,len(solution_prev_1)):\n",
    "#     for i in range(0,len(solution_prev_1[j])):\n",
    "#         if solution_prev_1[j][i] >= 81:\n",
    "#             data_filtered = str(solution_prev_1[j][0]) + \" \"\n",
    "#             for w in range(1,len(solution_prev_1[j])):\n",
    "#                 data_filtered = str(data_filtered) + str(solution_prev_1[j][w]) + \" \"\n",
    "#             file_next_step.write(str(data_filtered) + \"\\r\\n\")\n",
    "#             continue\n",
    "#     if((j+1) % 100000 == 0):\n",
    "#         print(\"Done: \" + str(j+1) + \"/\" + str(len(solution_prev_1)))\n",
    "        \n",
    "# for j in range(0,len(solution_prev_2)):\n",
    "#     for i in range(0,len(solution_prev_2[j])):\n",
    "#         if solution_prev_2[j][i] >= 81:\n",
    "#             data_filtered = str(solution_prev_2[j][0]) + \" \"\n",
    "#             for w in range(1,len(solution_prev_2[j])):\n",
    "#                 data_filtered = str(data_filtered) + str(solution_prev_2[j][w]) + \" \"\n",
    "#             file_next_step.write(str(data_filtered) + \"\\r\\n\")\n",
    "#             continue\n",
    "#     if((j+1) % 100000 == 0):\n",
    "#         print(\"Done: \" + str(j+1) + \"/\" + str(len(solution_prev_2)))\n",
    "        \n",
    "# for j in range(0,len(solution_prev_3)):\n",
    "#     for i in range(0,len(solution_prev_3[j])):\n",
    "#         if solution_prev_3[j][i] >= 81:\n",
    "#             data_filtered = str(solution_prev_3[j][0]) + \" \"\n",
    "#             for w in range(1,len(solution_prev_3[j])):\n",
    "#                 data_filtered = str(data_filtered) + str(solution_prev_3[j][w]) + \" \"\n",
    "#             file_next_step.write(str(data_filtered) + \"\\r\\n\")\n",
    "#             continue\n",
    "#     if((j+1) % 100000 == 0):\n",
    "#         print(\"Done: \" + str(j+1) + \"/\" + str(len(solution_prev_3)))\n",
    "\n",
    "# file_next_step.close() \n",
    "\n",
    "# show each situation in the step\n",
    "# solution_prev = np.loadtxt(fname=\"frequency\"+ str(11) +\"F.txt\",dtype=np.int16)\n",
    "# for w in range(0,len(solution_prev)):\n",
    "#     alive = numberToCoordinates(solution_prev[w])\n",
    "#     field_with_values = fillInField(field_basic, alive)\n",
    "#     showField(field_with_values)"
   ]
  },
  {
   "cell_type": "code",
   "execution_count": null,
   "metadata": {},
   "outputs": [],
   "source": []
  }
 ],
 "metadata": {
  "kernelspec": {
   "display_name": "Python 3",
   "language": "python",
   "name": "python3"
  },
  "language_info": {
   "codemirror_mode": {
    "name": "ipython",
    "version": 3
   },
   "file_extension": ".py",
   "mimetype": "text/x-python",
   "name": "python",
   "nbconvert_exporter": "python",
   "pygments_lexer": "ipython3",
   "version": "3.7.4"
  }
 },
 "nbformat": 4,
 "nbformat_minor": 2
}
